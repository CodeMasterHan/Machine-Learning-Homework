{
 "cells": [
  {
   "cell_type": "code",
   "execution_count": 2,
   "id": "a9f685eb",
   "metadata": {},
   "outputs": [],
   "source": [
    "import numpy as np\n",
    "import pandas as pd\n",
    "from sklearn.linear_model import LogisticRegression as LR\n",
    "from sklearn.svm import SVC\n",
    "from sklearn.model_selection import cross_val_score,cross_validate,train_test_split"
   ]
  },
  {
   "cell_type": "code",
   "execution_count": 3,
   "id": "4f1626be",
   "metadata": {
    "scrolled": true
   },
   "outputs": [],
   "source": [
    "data = pd.read_csv('adult_ori.csv',usecols=[0,4,8,9,12,13,14],names=['age','education_num','race','gender','hours_per_week','country','is50k+'],header=None)\n",
    "data_ori=data.copy()"
   ]
  },
  {
   "cell_type": "code",
   "execution_count": 4,
   "id": "3ee599f0",
   "metadata": {},
   "outputs": [],
   "source": [
    "eff_row_index = data[data['country'].str.contains('United-States')].index\n",
    "data = data.loc[eff_row_index,:]"
   ]
  },
  {
   "cell_type": "code",
   "execution_count": 5,
   "id": "b28ad562",
   "metadata": {
    "scrolled": true
   },
   "outputs": [],
   "source": [
    "eff_row_index = data[data['race'].str.contains('White|Black')].index\n",
    "data = data.loc[eff_row_index,:]"
   ]
  },
  {
   "cell_type": "code",
   "execution_count": 6,
   "id": "9e05f6c4",
   "metadata": {},
   "outputs": [],
   "source": [
    "data['race']=data['race'].replace('White', 1, regex=True)\n",
    "data['race']=data['race'].replace('Black', 0, regex=True)\n",
    "data['gender']=data['gender'].replace('Male', 1, regex=True)\n",
    "data['gender']=data['gender'].replace('Female', 0, regex=True)\n",
    "data['is50k+']=data['is50k+'].replace('<=50K', 0, regex=True)\n",
    "data['is50k+']=data['is50k+'].replace('>50K', 1, regex=True)"
   ]
  },
  {
   "cell_type": "code",
   "execution_count": 7,
   "id": "337fee71",
   "metadata": {
    "scrolled": true
   },
   "outputs": [
    {
     "data": {
      "text/html": [
       "<div>\n",
       "<style scoped>\n",
       "    .dataframe tbody tr th:only-of-type {\n",
       "        vertical-align: middle;\n",
       "    }\n",
       "\n",
       "    .dataframe tbody tr th {\n",
       "        vertical-align: top;\n",
       "    }\n",
       "\n",
       "    .dataframe thead th {\n",
       "        text-align: right;\n",
       "    }\n",
       "</style>\n",
       "<table border=\"1\" class=\"dataframe\">\n",
       "  <thead>\n",
       "    <tr style=\"text-align: right;\">\n",
       "      <th></th>\n",
       "      <th>age</th>\n",
       "      <th>education_num</th>\n",
       "      <th>race</th>\n",
       "      <th>gender</th>\n",
       "      <th>hours_per_week</th>\n",
       "      <th>country</th>\n",
       "      <th>is50k+</th>\n",
       "    </tr>\n",
       "  </thead>\n",
       "  <tbody>\n",
       "    <tr>\n",
       "      <th>0</th>\n",
       "      <td>39</td>\n",
       "      <td>13</td>\n",
       "      <td>1</td>\n",
       "      <td>1</td>\n",
       "      <td>40</td>\n",
       "      <td>United-States</td>\n",
       "      <td>0</td>\n",
       "    </tr>\n",
       "    <tr>\n",
       "      <th>1</th>\n",
       "      <td>50</td>\n",
       "      <td>13</td>\n",
       "      <td>1</td>\n",
       "      <td>1</td>\n",
       "      <td>13</td>\n",
       "      <td>United-States</td>\n",
       "      <td>0</td>\n",
       "    </tr>\n",
       "    <tr>\n",
       "      <th>2</th>\n",
       "      <td>38</td>\n",
       "      <td>9</td>\n",
       "      <td>1</td>\n",
       "      <td>1</td>\n",
       "      <td>40</td>\n",
       "      <td>United-States</td>\n",
       "      <td>0</td>\n",
       "    </tr>\n",
       "    <tr>\n",
       "      <th>3</th>\n",
       "      <td>53</td>\n",
       "      <td>7</td>\n",
       "      <td>0</td>\n",
       "      <td>1</td>\n",
       "      <td>40</td>\n",
       "      <td>United-States</td>\n",
       "      <td>0</td>\n",
       "    </tr>\n",
       "    <tr>\n",
       "      <th>5</th>\n",
       "      <td>37</td>\n",
       "      <td>14</td>\n",
       "      <td>1</td>\n",
       "      <td>0</td>\n",
       "      <td>40</td>\n",
       "      <td>United-States</td>\n",
       "      <td>0</td>\n",
       "    </tr>\n",
       "    <tr>\n",
       "      <th>...</th>\n",
       "      <td>...</td>\n",
       "      <td>...</td>\n",
       "      <td>...</td>\n",
       "      <td>...</td>\n",
       "      <td>...</td>\n",
       "      <td>...</td>\n",
       "      <td>...</td>\n",
       "    </tr>\n",
       "    <tr>\n",
       "      <th>32556</th>\n",
       "      <td>27</td>\n",
       "      <td>12</td>\n",
       "      <td>1</td>\n",
       "      <td>0</td>\n",
       "      <td>38</td>\n",
       "      <td>United-States</td>\n",
       "      <td>0</td>\n",
       "    </tr>\n",
       "    <tr>\n",
       "      <th>32557</th>\n",
       "      <td>40</td>\n",
       "      <td>9</td>\n",
       "      <td>1</td>\n",
       "      <td>1</td>\n",
       "      <td>40</td>\n",
       "      <td>United-States</td>\n",
       "      <td>1</td>\n",
       "    </tr>\n",
       "    <tr>\n",
       "      <th>32558</th>\n",
       "      <td>58</td>\n",
       "      <td>9</td>\n",
       "      <td>1</td>\n",
       "      <td>0</td>\n",
       "      <td>40</td>\n",
       "      <td>United-States</td>\n",
       "      <td>0</td>\n",
       "    </tr>\n",
       "    <tr>\n",
       "      <th>32559</th>\n",
       "      <td>22</td>\n",
       "      <td>9</td>\n",
       "      <td>1</td>\n",
       "      <td>1</td>\n",
       "      <td>20</td>\n",
       "      <td>United-States</td>\n",
       "      <td>0</td>\n",
       "    </tr>\n",
       "    <tr>\n",
       "      <th>32560</th>\n",
       "      <td>52</td>\n",
       "      <td>9</td>\n",
       "      <td>1</td>\n",
       "      <td>0</td>\n",
       "      <td>40</td>\n",
       "      <td>United-States</td>\n",
       "      <td>1</td>\n",
       "    </tr>\n",
       "  </tbody>\n",
       "</table>\n",
       "<p>28453 rows × 7 columns</p>\n",
       "</div>"
      ],
      "text/plain": [
       "       age  education_num  race  gender  hours_per_week         country  \\\n",
       "0       39             13     1       1              40   United-States   \n",
       "1       50             13     1       1              13   United-States   \n",
       "2       38              9     1       1              40   United-States   \n",
       "3       53              7     0       1              40   United-States   \n",
       "5       37             14     1       0              40   United-States   \n",
       "...    ...            ...   ...     ...             ...             ...   \n",
       "32556   27             12     1       0              38   United-States   \n",
       "32557   40              9     1       1              40   United-States   \n",
       "32558   58              9     1       0              40   United-States   \n",
       "32559   22              9     1       1              20   United-States   \n",
       "32560   52              9     1       0              40   United-States   \n",
       "\n",
       "       is50k+  \n",
       "0           0  \n",
       "1           0  \n",
       "2           0  \n",
       "3           0  \n",
       "5           0  \n",
       "...       ...  \n",
       "32556       0  \n",
       "32557       1  \n",
       "32558       0  \n",
       "32559       0  \n",
       "32560       1  \n",
       "\n",
       "[28453 rows x 7 columns]"
      ]
     },
     "execution_count": 7,
     "metadata": {},
     "output_type": "execute_result"
    }
   ],
   "source": [
    "data"
   ]
  },
  {
   "cell_type": "code",
   "execution_count": 8,
   "id": "10e8edb2",
   "metadata": {
    "scrolled": true
   },
   "outputs": [
    {
     "data": {
      "text/plain": [
       "array([0.79936753, 0.79163739, 0.80182713, 0.79367311, 0.79824253,\n",
       "       0.79964851, 0.79718805, 0.80702988, 0.80421793, 0.7940246 ])"
      ]
     },
     "execution_count": 8,
     "metadata": {},
     "output_type": "execute_result"
    }
   ],
   "source": [
    "x = data[['age','education_num','race','gender','hours_per_week']]\n",
    "y = data['is50k+']\n",
    "clf = LR(C=0.5)\n",
    "clf = clf.fit(x,y)\n",
    "score_LR = cross_val_score(clf, x, y, cv=10)\n",
    "score_LR"
   ]
  },
  {
   "cell_type": "code",
   "execution_count": 10,
   "id": "662c7425",
   "metadata": {},
   "outputs": [
    {
     "data": {
      "text/plain": [
       "array([0.79511509, 0.79880513, 0.80038658, 0.80210896, 0.7943761 ])"
      ]
     },
     "execution_count": 10,
     "metadata": {},
     "output_type": "execute_result"
    }
   ],
   "source": [
    "clf_svm = SVC(kernel='rbf')\n",
    "clf_svm.fit(x, y)\n",
    "score_SVM = cross_val_score(clf_svm, x, y, cv=5)\n",
    "score_SVM"
   ]
  },
  {
   "cell_type": "code",
   "execution_count": 12,
   "id": "14dcc019",
   "metadata": {},
   "outputs": [
    {
     "name": "stdout",
     "output_type": "stream",
     "text": [
      "0.7986856649544823\n",
      "0.7981583723444565\n"
     ]
    }
   ],
   "source": [
    "print(score_LR.mean())\n",
    "print(score_SVM.mean())"
   ]
  },
  {
   "cell_type": "code",
   "execution_count": null,
   "id": "41b72c2a",
   "metadata": {},
   "outputs": [],
   "source": []
  }
 ],
 "metadata": {
  "kernelspec": {
   "display_name": "Python 3 (ipykernel)",
   "language": "python",
   "name": "python3"
  },
  "language_info": {
   "codemirror_mode": {
    "name": "ipython",
    "version": 3
   },
   "file_extension": ".py",
   "mimetype": "text/x-python",
   "name": "python",
   "nbconvert_exporter": "python",
   "pygments_lexer": "ipython3",
   "version": "3.9.12"
  }
 },
 "nbformat": 4,
 "nbformat_minor": 5
}
